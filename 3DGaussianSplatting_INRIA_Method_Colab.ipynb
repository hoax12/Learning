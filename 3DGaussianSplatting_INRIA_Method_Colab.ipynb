{
  "nbformat": 4,
  "nbformat_minor": 0,
  "metadata": {
    "colab": {
      "provenance": [],
      "gpuType": "T4",
      "include_colab_link": true
    },
    "kernelspec": {
      "name": "python3",
      "display_name": "Python 3"
    },
    "language_info": {
      "name": "python"
    },
    "accelerator": "GPU"
  },
  "cells": [
    {
      "cell_type": "markdown",
      "metadata": {
        "id": "view-in-github",
        "colab_type": "text"
      },
      "source": [
        "<a href=\"https://colab.research.google.com/github/hoax12/Learning/blob/master/3DGaussianSplatting_INRIA_Method_Colab.ipynb\" target=\"_parent\"><img src=\"https://colab.research.google.com/assets/colab-badge.svg\" alt=\"Open In Colab\"/></a>"
      ]
    },
    {
      "cell_type": "markdown",
      "source": [
        "# Python downgrading\n"
      ],
      "metadata": {
        "id": "LYiyaKJVzVR5"
      }
    },
    {
      "cell_type": "code",
      "source": [
        "from google.colab import drive\n",
        "drive.mount('/content/drive')"
      ],
      "metadata": {
        "id": "o1ZWXSBwzbrZ",
        "outputId": "2e140cb7-4cfd-4a16-e154-9668159b2871",
        "colab": {
          "base_uri": "https://localhost:8080/"
        }
      },
      "execution_count": 3,
      "outputs": [
        {
          "output_type": "stream",
          "name": "stdout",
          "text": [
            "Mounted at /content/drive\n"
          ]
        }
      ]
    },
    {
      "cell_type": "code",
      "execution_count": 4,
      "metadata": {
        "colab": {
          "base_uri": "https://localhost:8080/"
        },
        "id": "bEU8kAEozSnY",
        "outputId": "1df90c00-e83f-41f5-efae-417bbfce1e71"
      },
      "outputs": [
        {
          "output_type": "stream",
          "name": "stdout",
          "text": [
            "--2025-10-06 23:15:28--  https://repo.anaconda.com/miniconda/Miniconda3-py37_23.1.0-1-Linux-x86_64.sh\n",
            "Resolving repo.anaconda.com (repo.anaconda.com)... 104.16.32.241, 104.16.191.158, 2606:4700::6810:20f1, ...\n",
            "Connecting to repo.anaconda.com (repo.anaconda.com)|104.16.32.241|:443... connected.\n",
            "HTTP request sent, awaiting response... 200 OK\n",
            "Length: 90665082 (86M) [application/x-sh]\n",
            "Saving to: ‘mini.sh’\n",
            "\n",
            "mini.sh             100%[===================>]  86.46M   201MB/s    in 0.4s    \n",
            "\n",
            "2025-10-06 23:15:28 (201 MB/s) - ‘mini.sh’ saved [90665082/90665082]\n",
            "\n",
            "PREFIX=/usr/local\n",
            "Unpacking payload ...\n",
            "                                                                              \n",
            "Installing base environment...\n",
            "\n",
            "\n",
            "Downloading and Extracting Packages\n",
            "\n",
            "\n",
            "Downloading and Extracting Packages\n",
            "\n",
            "Preparing transaction: - \b\b\\ \b\b| \b\b/ \b\bdone\n",
            "Executing transaction: \\ \b\b| \b\b/ \b\b- \b\b\\ \b\b| \b\b/ \b\b- \b\b\\ \b\b| \b\b/ \b\b- \b\b\\ \b\b| \b\b/ \b\b- \b\b\\ \b\b| \b\b/ \b\b- \b\b\\ \b\bdone\n",
            "installation finished.\n",
            "WARNING:\n",
            "    You currently have a PYTHONPATH environment variable set. This may cause\n",
            "    unexpected behavior when running the Python interpreter in Miniconda3.\n",
            "    For best results, please verify that your PYTHONPATH only points to\n",
            "    directories of packages that are compatible with the Python interpreter\n",
            "    in Miniconda3: /usr/local\n",
            "Collecting package metadata (current_repodata.json): ...working... done\n",
            "Solving environment: ...working... done\n",
            "\n",
            "## Package Plan ##\n",
            "\n",
            "  environment location: /usr/local\n",
            "\n",
            "  added / updated specs:\n",
            "    - python=3.7\n",
            "\n",
            "\n",
            "The following packages will be downloaded:\n",
            "\n",
            "    package                    |            build\n",
            "    ---------------------------|-----------------\n",
            "    ca-certificates-2025.9.9   |       h06a4308_0         127 KB\n",
            "    openssl-1.1.1w             |       h7f8727e_0         3.7 MB\n",
            "    ------------------------------------------------------------\n",
            "                                           Total:         3.9 MB\n",
            "\n",
            "The following packages will be UPDATED:\n",
            "\n",
            "  ca-certificates                     2023.01.10-h06a4308_0 --> 2025.9.9-h06a4308_0 \n",
            "  openssl                                 1.1.1s-h7f8727e_0 --> 1.1.1w-h7f8727e_0 \n",
            "\n",
            "\n",
            "Preparing transaction: ...working... done\n",
            "Verifying transaction: ...working... done\n",
            "Executing transaction: ...working... done\n",
            "Python 3.7.16\n"
          ]
        }
      ],
      "source": [
        "!wget -O mini.sh https://repo.anaconda.com/miniconda/Miniconda3-py37_23.1.0-1-Linux-x86_64.sh\n",
        "!chmod +x mini.sh\n",
        "!bash ./mini.sh -b -f -p /usr/local\n",
        "!conda install -q -y python=3.7\n",
        "import sys\n",
        "sys.path.append('/usr/local/lib/python3.7/site-packages')\n",
        "!python --version  # Should say Python 3.7.x"
      ]
    },
    {
      "cell_type": "markdown",
      "source": [
        "# CUDA 11.8"
      ],
      "metadata": {
        "id": "iJvxRlTYzyGE"
      }
    },
    {
      "cell_type": "code",
      "source": [
        "!wget https://developer.download.nvidia.com/compute/cuda/11.8.0/local_installers/cuda_11.8.0_520.61.05_linux.run\n",
        "!chmod +x cuda_11.8.0_520.61.05_linux.run\n",
        "!./cuda_11.8.0_520.61.05_linux.run --silent --toolkit --no-drm --no-man-page\n",
        "import os\n",
        "os.environ['PATH'] += ':/usr/local/cuda-11.8/bin'\n",
        "os.environ['LD_LIBRARY_PATH'] = '/usr/local/cuda-11.8/lib64:/usr/lib64-nvidia'\n",
        "!nvcc --version  # Should show CUDA 11.8"
      ],
      "metadata": {
        "colab": {
          "base_uri": "https://localhost:8080/"
        },
        "id": "6V1R_kOfzxck",
        "outputId": "6e758023-b464-4fb2-cd54-034df3efa6bc"
      },
      "execution_count": 5,
      "outputs": [
        {
          "output_type": "stream",
          "name": "stdout",
          "text": [
            "--2025-10-06 23:15:53--  https://developer.download.nvidia.com/compute/cuda/11.8.0/local_installers/cuda_11.8.0_520.61.05_linux.run\n",
            "Resolving developer.download.nvidia.com (developer.download.nvidia.com)... 23.46.17.43, 23.46.17.66\n",
            "Connecting to developer.download.nvidia.com (developer.download.nvidia.com)|23.46.17.43|:443... connected.\n",
            "HTTP request sent, awaiting response... 200 OK\n",
            "Length: 4336730777 (4.0G) [application/octet-stream]\n",
            "Saving to: ‘cuda_11.8.0_520.61.05_linux.run’\n",
            "\n",
            "cuda_11.8.0_520.61. 100%[===================>]   4.04G   141MB/s    in 28s     \n",
            "\n",
            "2025-10-06 23:16:21 (147 MB/s) - ‘cuda_11.8.0_520.61.05_linux.run’ saved [4336730777/4336730777]\n",
            "\n",
            "nvcc: NVIDIA (R) Cuda compiler driver\n",
            "Copyright (c) 2005-2022 NVIDIA Corporation\n",
            "Built on Wed_Sep_21_10:33:58_PDT_2022\n",
            "Cuda compilation tools, release 11.8, V11.8.89\n",
            "Build cuda_11.8.r11.8/compiler.31833905_0\n"
          ]
        }
      ]
    },
    {
      "cell_type": "markdown",
      "source": [
        "#Pytorch with cuda"
      ],
      "metadata": {
        "id": "5Cfq4AGJzlAI"
      }
    },
    {
      "cell_type": "code",
      "source": [
        "!pip uninstall torch torchvision torchaudio -y\n",
        "!pip install torch==1.12.1+cu116 torchvision==0.13.1+cu116 torchaudio==0.12.1 --extra-index-url https://download.pytorch.org/whl/cu116"
      ],
      "metadata": {
        "colab": {
          "base_uri": "https://localhost:8080/",
          "height": 602
        },
        "id": "bzg2csQeznWA",
        "outputId": "d288001e-db55-495d-c99f-6a290aa6e448"
      },
      "execution_count": 6,
      "outputs": [
        {
          "output_type": "stream",
          "name": "stdout",
          "text": [
            "\u001b[33mWARNING: Skipping torch as it is not installed.\u001b[0m\u001b[33m\n",
            "\u001b[0m\u001b[33mWARNING: Skipping torchvision as it is not installed.\u001b[0m\u001b[33m\n",
            "\u001b[0m\u001b[33mWARNING: Skipping torchaudio as it is not installed.\u001b[0m\u001b[33m\n",
            "\u001b[0mLooking in indexes: https://pypi.org/simple, https://download.pytorch.org/whl/cu116\n",
            "Collecting torch==1.12.1+cu116\n",
            "  Downloading https://download.pytorch.org/whl/cu116/torch-1.12.1%2Bcu116-cp37-cp37m-linux_x86_64.whl (1904.8 MB)\n",
            "\u001b[2K     \u001b[90m━━━━━━━━━━━━━━━━━━━━━━━━━━━━━━━━━━━━━━━━\u001b[0m \u001b[32m1.9/1.9 GB\u001b[0m \u001b[31m403.2 kB/s\u001b[0m eta \u001b[36m0:00:00\u001b[0m\n",
            "\u001b[?25hCollecting torchvision==0.13.1+cu116\n",
            "  Downloading https://download.pytorch.org/whl/cu116/torchvision-0.13.1%2Bcu116-cp37-cp37m-linux_x86_64.whl (23.5 MB)\n",
            "\u001b[2K     \u001b[90m━━━━━━━━━━━━━━━━━━━━━━━━━━━━━━━━━━━━━━━━\u001b[0m \u001b[32m23.5/23.5 MB\u001b[0m \u001b[31m75.2 MB/s\u001b[0m eta \u001b[36m0:00:00\u001b[0m\n",
            "\u001b[?25hCollecting torchaudio==0.12.1\n",
            "  Downloading https://download.pytorch.org/whl/cu116/torchaudio-0.12.1%2Bcu116-cp37-cp37m-linux_x86_64.whl (3.8 MB)\n",
            "\u001b[2K     \u001b[90m━━━━━━━━━━━━━━━━━━━━━━━━━━━━━━━━━━━━━━━━\u001b[0m \u001b[32m3.8/3.8 MB\u001b[0m \u001b[31m82.2 MB/s\u001b[0m eta \u001b[36m0:00:00\u001b[0m\n",
            "\u001b[?25hRequirement already satisfied: typing-extensions in /usr/local/lib/python3.7/site-packages (from torch==1.12.1+cu116) (4.4.0)\n",
            "Collecting numpy\n",
            "  Downloading https://download.pytorch.org/whl/numpy-1.21.6-cp37-cp37m-manylinux_2_12_x86_64.manylinux2010_x86_64.whl (15.7 MB)\n",
            "\u001b[2K     \u001b[90m━━━━━━━━━━━━━━━━━━━━━━━━━━━━━━━━━━━━━━━━\u001b[0m \u001b[32m15.7/15.7 MB\u001b[0m \u001b[31m99.9 MB/s\u001b[0m eta \u001b[36m0:00:00\u001b[0m\n",
            "\u001b[?25hRequirement already satisfied: requests in /usr/local/lib/python3.7/site-packages (from torchvision==0.13.1+cu116) (2.28.1)\n",
            "Collecting pillow!=8.3.*,>=5.3.0\n",
            "  Downloading Pillow-9.5.0-cp37-cp37m-manylinux_2_28_x86_64.whl (3.4 MB)\n",
            "\u001b[2K     \u001b[90m━━━━━━━━━━━━━━━━━━━━━━━━━━━━━━━━━━━━━━━━\u001b[0m \u001b[32m3.4/3.4 MB\u001b[0m \u001b[31m20.1 MB/s\u001b[0m eta \u001b[36m0:00:00\u001b[0m\n",
            "\u001b[?25hRequirement already satisfied: certifi>=2017.4.17 in /usr/local/lib/python3.7/site-packages (from requests->torchvision==0.13.1+cu116) (2022.12.7)\n",
            "Requirement already satisfied: idna<4,>=2.5 in /usr/local/lib/python3.7/site-packages (from requests->torchvision==0.13.1+cu116) (3.4)\n",
            "Requirement already satisfied: charset-normalizer<3,>=2 in /usr/local/lib/python3.7/site-packages (from requests->torchvision==0.13.1+cu116) (2.0.4)\n",
            "Requirement already satisfied: urllib3<1.27,>=1.21.1 in /usr/local/lib/python3.7/site-packages (from requests->torchvision==0.13.1+cu116) (1.26.14)\n",
            "Installing collected packages: torch, pillow, numpy, torchvision, torchaudio\n",
            "Successfully installed numpy-1.21.6 pillow-9.5.0 torch-1.12.1+cu116 torchaudio-0.12.1+cu116 torchvision-0.13.1+cu116\n"
          ]
        },
        {
          "output_type": "display_data",
          "data": {
            "application/vnd.colab-display-data+json": {
              "pip_warning": {
                "packages": [
                  "PIL",
                  "numpy"
                ]
              },
              "id": "95f08490988c4a3896068fb88fdfb095"
            }
          },
          "metadata": {}
        }
      ]
    },
    {
      "cell_type": "markdown",
      "source": [
        "# Verification of the versions"
      ],
      "metadata": {
        "id": "QbskoEIW1kMT"
      }
    },
    {
      "cell_type": "code",
      "source": [
        "import torch\n",
        "print(torch.cuda.is_available())  # Should be True\n",
        "print(torch.version.cuda)        # Should be 11.3 (from PyTorch)\n",
        "print(torch.cuda.get_device_name(0))  # Should show GPU"
      ],
      "metadata": {
        "colab": {
          "base_uri": "https://localhost:8080/"
        },
        "id": "T6hplWJp1ncr",
        "outputId": "72f08775-3382-4415-97dd-9b2663791a36"
      },
      "execution_count": 1,
      "outputs": [
        {
          "output_type": "stream",
          "name": "stdout",
          "text": [
            "True\n",
            "12.6\n",
            "Tesla T4\n"
          ]
        }
      ]
    },
    {
      "cell_type": "code",
      "source": [
        "!nvidia-smi"
      ],
      "metadata": {
        "colab": {
          "base_uri": "https://localhost:8080/"
        },
        "id": "EzxF7zKL2Z5b",
        "outputId": "61ecee35-7933-4934-d445-7de1213d7618"
      },
      "execution_count": 2,
      "outputs": [
        {
          "output_type": "stream",
          "name": "stdout",
          "text": [
            "Mon Oct  6 23:22:30 2025       \n",
            "+-----------------------------------------------------------------------------------------+\n",
            "| NVIDIA-SMI 550.54.15              Driver Version: 550.54.15      CUDA Version: 12.4     |\n",
            "|-----------------------------------------+------------------------+----------------------+\n",
            "| GPU  Name                 Persistence-M | Bus-Id          Disp.A | Volatile Uncorr. ECC |\n",
            "| Fan  Temp   Perf          Pwr:Usage/Cap |           Memory-Usage | GPU-Util  Compute M. |\n",
            "|                                         |                        |               MIG M. |\n",
            "|=========================================+========================+======================|\n",
            "|   0  Tesla T4                       Off |   00000000:00:04.0 Off |                    0 |\n",
            "| N/A   39C    P8             10W /   70W |       2MiB /  15360MiB |      0%      Default |\n",
            "|                                         |                        |                  N/A |\n",
            "+-----------------------------------------+------------------------+----------------------+\n",
            "                                                                                         \n",
            "+-----------------------------------------------------------------------------------------+\n",
            "| Processes:                                                                              |\n",
            "|  GPU   GI   CI        PID   Type   Process name                              GPU Memory |\n",
            "|        ID   ID                                                               Usage      |\n",
            "|=========================================================================================|\n",
            "|  No running processes found                                                             |\n",
            "+-----------------------------------------------------------------------------------------+\n"
          ]
        }
      ]
    },
    {
      "cell_type": "code",
      "source": [
        "%cd /content\n",
        "!git clone --recursive https://github.com/camenduru/gaussian-splatting\n",
        "!pip install -q plyfile\n",
        "\n",
        "%cd /content/gaussian-splatting\n",
        "!pip install -q /content/gaussian-splatting/submodules/diff-gaussian-rasterization\n",
        "!pip install -q /content/gaussian-splatting/submodules/simple-knn\n"
      ],
      "metadata": {
        "colab": {
          "base_uri": "https://localhost:8080/"
        },
        "id": "UXpilqZw6qnl",
        "outputId": "2a4f6f5b-9dde-4523-a872-196dc522a7e4"
      },
      "execution_count": 3,
      "outputs": [
        {
          "output_type": "stream",
          "name": "stdout",
          "text": [
            "/content\n",
            "Cloning into 'gaussian-splatting'...\n",
            "remote: Enumerating objects: 603, done.\u001b[K\n",
            "remote: Total 603 (delta 0), reused 0 (delta 0), pack-reused 603 (from 1)\u001b[K\n",
            "Receiving objects: 100% (603/603), 2.09 MiB | 30.16 MiB/s, done.\n",
            "Resolving deltas: 100% (347/347), done.\n",
            "Submodule 'SIBR_viewers' (https://gitlab.inria.fr/sibr/sibr_core) registered for path 'SIBR_viewers'\n",
            "Submodule 'submodules/diff-gaussian-rasterization' (https://github.com/graphdeco-inria/diff-gaussian-rasterization) registered for path 'submodules/diff-gaussian-rasterization'\n",
            "Submodule 'submodules/simple-knn' (https://gitlab.inria.fr/bkerbl/simple-knn.git) registered for path 'submodules/simple-knn'\n",
            "Cloning into '/content/gaussian-splatting/SIBR_viewers'...\n",
            "warning: redirecting to https://gitlab.inria.fr/sibr/sibr_core.git/\n",
            "remote: Enumerating objects: 3293, done.        \n",
            "remote: Counting objects: 100% (322/322), done.        \n",
            "remote: Compressing objects: 100% (174/174), done.        \n",
            "remote: Total 3293 (delta 171), reused 280 (delta 148), pack-reused 2971 (from 1)        \n",
            "Receiving objects: 100% (3293/3293), 9.98 MiB | 8.29 MiB/s, done.\n",
            "Resolving deltas: 100% (2039/2039), done.\n",
            "Cloning into '/content/gaussian-splatting/submodules/diff-gaussian-rasterization'...\n",
            "remote: Enumerating objects: 329, done.        \n",
            "remote: Total 329 (delta 0), reused 0 (delta 0), pack-reused 329 (from 1)        \n",
            "Receiving objects: 100% (329/329), 111.68 KiB | 7.45 MiB/s, done.\n",
            "Resolving deltas: 100% (216/216), done.\n",
            "Cloning into '/content/gaussian-splatting/submodules/simple-knn'...\n",
            "remote: Enumerating objects: 37, done.        \n",
            "remote: Counting objects: 100% (37/37), done.        \n",
            "remote: Compressing objects: 100% (34/34), done.        \n",
            "remote: Total 37 (delta 18), reused 0 (delta 0), pack-reused 0 (from 0)        \n",
            "Receiving objects: 100% (37/37), 9.46 KiB | 9.46 MiB/s, done.\n",
            "Resolving deltas: 100% (18/18), done.\n",
            "Submodule path 'SIBR_viewers': checked out '14199886ae3f42358092c16ada909c1e0b1cba20'\n",
            "Submodule path 'submodules/diff-gaussian-rasterization': checked out '8064f52ca233942bdec2d1a1451c026deedd320b'\n",
            "Submodule 'third_party/glm' (https://github.com/g-truc/glm.git) registered for path 'submodules/diff-gaussian-rasterization/third_party/glm'\n",
            "Cloning into '/content/gaussian-splatting/submodules/diff-gaussian-rasterization/third_party/glm'...\n",
            "remote: Enumerating objects: 60004, done.        \n",
            "remote: Counting objects: 100% (272/272), done.        \n",
            "remote: Compressing objects: 100% (137/137), done.        \n",
            "remote: Total 60004 (delta 199), reused 141 (delta 134), pack-reused 59732 (from 3)        \n",
            "Receiving objects: 100% (60004/60004), 71.41 MiB | 6.27 MiB/s, done.\n",
            "Resolving deltas: 100% (45437/45437), done.\n",
            "Submodule path 'submodules/diff-gaussian-rasterization/third_party/glm': checked out '5c46b9c07008ae65cb81ab79cd677ecc1934b903'\n",
            "Submodule path 'submodules/simple-knn': checked out '44f764299fa305faf6ec5ebd99939e0508331503'\n",
            "/content/gaussian-splatting\n",
            "  Preparing metadata (setup.py) ... \u001b[?25l\u001b[?25hdone\n",
            "  Building wheel for diff-gaussian-rasterization (setup.py) ... \u001b[?25l\u001b[?25hdone\n",
            "  Preparing metadata (setup.py) ... \u001b[?25l\u001b[?25hdone\n",
            "  Building wheel for simple-knn (setup.py) ... \u001b[?25l\u001b[?25hdone\n"
          ]
        }
      ]
    },
    {
      "cell_type": "code",
      "source": [
        "!python /content/gaussian-splatting/train.py -s /content/gs_project_15"
      ],
      "metadata": {
        "colab": {
          "base_uri": "https://localhost:8080/"
        },
        "id": "2GbT5KK271fa",
        "outputId": "e6fb5d7b-c4a3-4ee0-8bc6-b2a0eea64afd"
      },
      "execution_count": 4,
      "outputs": [
        {
          "output_type": "stream",
          "name": "stdout",
          "text": [
            "Optimizing \n",
            "Output folder: ./output/48f62508-b [06/10 23:27:07]\n",
            "Tensorboard not available: not logging progress [06/10 23:27:07]\n",
            "\rReading camera 1/30\rReading camera 2/30\rReading camera 3/30\rReading camera 4/30\rReading camera 5/30\rReading camera 6/30\rReading camera 7/30\rReading camera 8/30\rReading camera 9/30\rReading camera 10/30\rReading camera 11/30\rReading camera 12/30\rReading camera 13/30\rReading camera 14/30\rReading camera 15/30\rReading camera 16/30\rReading camera 17/30\rReading camera 18/30\rReading camera 19/30\rReading camera 20/30\rReading camera 21/30\rReading camera 22/30\rReading camera 23/30\rReading camera 24/30\rReading camera 25/30\rReading camera 26/30\rReading camera 27/30\rReading camera 28/30\rReading camera 29/30\rReading camera 30/30 [06/10 23:27:07]\n",
            "Converting point3d.bin to .ply, will happen only the first time you open the scene. [06/10 23:27:07]\n",
            "Loading Training Cameras [06/10 23:27:07]\n",
            "[ INFO ] Encountered quite large input images (>1.6K pixels width), rescaling to 1.6K.\n",
            " If this is not desired, please explicitly specify '--resolution/-r' as 1 [06/10 23:27:07]\n",
            "Loading Test Cameras [06/10 23:27:29]\n",
            "Number of points at initialisation :  16812 [06/10 23:27:29]\n",
            "Training progress:  23% 7000/30000 [16:18<1:18:07,  4.91it/s, Loss=0.0516475]\n",
            "[ITER 7000] Evaluating train: L1 0.026119751110672954 PSNR 27.776440048217776 [06/10 23:43:48]\n",
            "\n",
            "[ITER 7000] Saving Gaussians [06/10 23:43:48]\n",
            "Training progress: 100% 30000/30000 [1:44:14<00:00,  4.80it/s, Loss=0.0266134]\n",
            "\n",
            "[ITER 30000] Evaluating train: L1 0.016113310307264327 PSNR 31.857266616821292 [07/10 01:11:44]\n",
            "\n",
            "[ITER 30000] Saving Gaussians [07/10 01:11:44]\n",
            "^C\n"
          ]
        }
      ]
    },
    {
      "cell_type": "code",
      "source": [
        "!python render.py -m /content/gaussian-splatting/output/48f62508-b -i 70000"
      ],
      "metadata": {
        "id": "r_W_FumIQMyS",
        "outputId": "db57980c-ddcd-4f40-f66d-c40ccda1d243",
        "colab": {
          "base_uri": "https://localhost:8080/"
        }
      },
      "execution_count": 7,
      "outputs": [
        {
          "output_type": "stream",
          "name": "stdout",
          "text": [
            "Looking for config file in /content/gaussian-splatting/output/48f62508-b/cfg_args\n",
            "Config file found: /content/gaussian-splatting/output/48f62508-b/cfg_args\n",
            "Rendering /content/gaussian-splatting/output/48f62508-b\n",
            "Loading trained model at iteration 30000 [07/10 01:22:48]\n",
            "Reading camera 1/30Traceback (most recent call last):\n",
            "  File \"render.py\", line 66, in <module>\n",
            "    render_sets(model.extract(args), args.iteration, pipeline.extract(args), args.skip_train, args.skip_test)\n",
            "  File \"render.py\", line 40, in render_sets\n",
            "    scene = Scene(dataset, gaussians, load_iteration=iteration, shuffle=False)\n",
            "  File \"/content/gaussian-splatting/scene/__init__.py\", line 44, in __init__\n",
            "    scene_info = sceneLoadTypeCallbacks[\"Colmap\"](args.source_path, args.images, args.eval)\n",
            "  File \"/content/gaussian-splatting/scene/dataset_readers.py\", line 145, in readColmapSceneInfo\n",
            "    cam_infos_unsorted = readColmapCameras(cam_extrinsics=cam_extrinsics, cam_intrinsics=cam_intrinsics, images_folder=os.path.join(path, reading_dir))\n",
            "  File \"/content/gaussian-splatting/scene/dataset_readers.py\", line 99, in readColmapCameras\n",
            "    image = Image.open(image_path)\n",
            "  File \"/usr/local/lib/python3.7/site-packages/PIL/Image.py\", line 3236, in open\n",
            "    fp = builtins.open(filename, \"rb\")\n",
            "FileNotFoundError: [Errno 2] No such file or directory: '/content/gs_project_15/70000/18.JPG'\n"
          ]
        }
      ]
    },
    {
      "cell_type": "code",
      "source": [],
      "metadata": {
        "id": "dMI-pp7hQ0TQ"
      },
      "execution_count": null,
      "outputs": []
    }
  ]
}